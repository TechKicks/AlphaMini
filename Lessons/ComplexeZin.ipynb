{
 "cells": [
  {
   "cell_type": "code",
   "execution_count": 3,
   "metadata": {},
   "outputs": [
    {
     "name": "stderr",
     "output_type": "stream",
     "text": [
      "start scanning...\n",
      "Address not available when adding 169.254.67.228 to multicast group, it is expected to happen on some systems\n",
      "Address not available when adding 169.254.67.228 to multicast group, it is expected to happen on some systems\n",
      "Address not available when adding 169.254.67.228 to multicast group, it is expected to happen on some systems\n",
      "Address not available when adding 169.254.65.34 to multicast group, it is expected to happen on some systems\n",
      "Address not available when adding 169.254.65.34 to multicast group, it is expected to happen on some systems\n",
      "Address not available when adding 169.254.65.34 to multicast group, it is expected to happen on some systems\n",
      "Find Device:  <class 'mini.dns.dns_browser.WiFiDevice'> name:Edu_030008KFK18122900534 address:192.168.0.173 port:51119 type:_Edu_mini_channel_server._tcp.local. server:Android.local.\n",
      "found device : <class 'mini.dns.dns_browser.WiFiDevice'> name:Edu_030008KFK18122900534 address:192.168.0.173 port:51119 type:_Edu_mini_channel_server._tcp.local. server:Android.local.\n",
      "stop scan finished.\n",
      "connect begin\n",
      "connect success\n"
     ]
    },
    {
     "name": "stdout",
     "output_type": "stream",
     "text": [
      "test_get_device_by_name result:<class 'mini.dns.dns_browser.WiFiDevice'> name:Edu_030008KFK18122900534 address:192.168.0.173 port:51119 type:_Edu_mini_channel_server._tcp.local. server:Android.local.\n"
     ]
    },
    {
     "name": "stderr",
     "output_type": "stream",
     "text": [
      "send cmd=16, identify='3', message=\n",
      "recv msg: header {\n",
      "  id: \"3\"\n",
      "  command: 16\n",
      "}\n",
      "bodyData: \"\\n\\034Alpha_Mini_outEdu-V1.4.4.888\\020\\001\"\n",
      "\n"
     ]
    }
   ],
   "source": [
    "import mini.mini_sdk as MiniSdk\n",
    "from mini.dns.dns_browser import WiFiDevice\n",
    "import logging\n",
    "\n",
    "MiniSdk.set_log_level(logging.INFO)\n",
    "MiniSdk.set_robot_type(MiniSdk.RobotType.EDU)\n",
    "\n",
    "async def main():\n",
    "    result: WiFiDevice = await MiniSdk.get_device_by_name(\"Edu_030008KFK18122900534\", 10)\n",
    "    print(f\"test_get_device_by_name result:{result}\")\n",
    "\n",
    "    if result:\n",
    "        await MiniSdk.connect(result)\n",
    "        await MiniSdk.enter_program()\n",
    "\n",
    "await main()"
   ]
  },
  {
   "cell_type": "code",
   "execution_count": 4,
   "metadata": {},
   "outputs": [
    {
     "name": "stderr",
     "output_type": "stream",
     "text": [
      "send cmd=4, identify='4', message=text: \"It is currently16:12:05. Today\\'s aThursday. It has been 1683209525.863223 seconds since 01-01-1970 00:00.\"\n",
      "type: 1\n",
      "\n",
      "recv msg: header {\n",
      "  id: \"4\"\n",
      "  command: 4\n",
      "}\n",
      "bodyData: \"\\010\\001\"\n",
      "\n"
     ]
    },
    {
     "data": {
      "text/plain": [
       "(<MiniApiResultType.Success: 1>, isSuccess: true)"
      ]
     },
     "execution_count": 4,
     "metadata": {},
     "output_type": "execute_result"
    },
    {
     "name": "stderr",
     "output_type": "stream",
     "text": [
      "connection closed ok!\n"
     ]
    }
   ],
   "source": [
    "from mini.apis.api_sound import StartPlayTTS;\n",
    "from datetime import datetime;\n",
    "\n",
    "date = datetime.now().strftime(\"%H:%M:%S\")\n",
    "action = StartPlayTTS(text=\"It is currently\" + date + \". Today's a\" + datetime.now().strftime(\"%A\") + \". It has been \" + str(datetime.now().timestamp()) +  \" seconds since 01-01-1970 00:00.\")\n",
    "await action.execute()"
   ]
  }
 ],
 "metadata": {
  "kernelspec": {
   "display_name": "Python 3",
   "language": "python",
   "name": "python3"
  },
  "language_info": {
   "codemirror_mode": {
    "name": "ipython",
    "version": 3
   },
   "file_extension": ".py",
   "mimetype": "text/x-python",
   "name": "python",
   "nbconvert_exporter": "python",
   "pygments_lexer": "ipython3",
   "version": "3.8.2"
  },
  "orig_nbformat": 4
 },
 "nbformat": 4,
 "nbformat_minor": 2
}

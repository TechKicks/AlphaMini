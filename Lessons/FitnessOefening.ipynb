{
 "cells": [
  {
   "cell_type": "code",
   "execution_count": 1,
   "metadata": {},
   "outputs": [
    {
     "name": "stderr",
     "output_type": "stream",
     "text": [
      "start scanning...\n",
      "Address not available when adding 169.254.66.10 to multicast group, it is expected to happen on some systems\n",
      "Address not available when adding 169.254.246.59 to multicast group, it is expected to happen on some systems\n",
      "Address not available when adding 169.254.39.80 to multicast group, it is expected to happen on some systems\n",
      "Address not available when adding 169.254.251.189 to multicast group, it is expected to happen on some systems\n",
      "Find Device:  <class 'mini.dns.dns_browser.WiFiDevice'> name:Edu_030008KFK18122900534 address:192.168.0.173 port:51156 type:_Edu_mini_channel_server._tcp.local. server:Android.local.\n",
      "found device : <class 'mini.dns.dns_browser.WiFiDevice'> name:Edu_030008KFK18122900534 address:192.168.0.173 port:51156 type:_Edu_mini_channel_server._tcp.local. server:Android.local.\n",
      "stop scan finished.\n",
      "connect begin\n",
      "connect success\n",
      "send cmd=16, identify='1', message=\n"
     ]
    },
    {
     "name": "stdout",
     "output_type": "stream",
     "text": [
      "test_get_device_by_name result:<class 'mini.dns.dns_browser.WiFiDevice'> name:Edu_030008KFK18122900534 address:192.168.0.173 port:51156 type:_Edu_mini_channel_server._tcp.local. server:Android.local.\n"
     ]
    },
    {
     "name": "stderr",
     "output_type": "stream",
     "text": [
      "recv msg: header {\n",
      "  id: \"1\"\n",
      "  command: 16\n",
      "}\n",
      "bodyData: \"\\n\\034Alpha_Mini_outEdu-V1.4.4.888\\020\\001\"\n",
      "\n"
     ]
    }
   ],
   "source": [
    "import mini.mini_sdk as MiniSdk\n",
    "from mini.dns.dns_browser import WiFiDevice\n",
    "import logging\n",
    "\n",
    "MiniSdk.set_log_level(logging.INFO)\n",
    "MiniSdk.set_robot_type(MiniSdk.RobotType.EDU)\n",
    "\n",
    "async def main():\n",
    "    result: WiFiDevice = await MiniSdk.get_device_by_name(\"Edu_030008KFK18122900534\", 10)\n",
    "    print(f\"test_get_device_by_name result:{result}\")\n",
    "\n",
    "    if result:\n",
    "        await MiniSdk.connect(result)\n",
    "        await MiniSdk.enter_program()\n",
    "\n",
    "await main()"
   ]
  },
  {
   "cell_type": "code",
   "execution_count": 3,
   "metadata": {},
   "outputs": [
    {
     "name": "stderr",
     "output_type": "stream",
     "text": [
      "send cmd=1, identify='3', message=actionName: \"015\"\n",
      "\n",
      "recv msg: header {\n",
      "  id: \"3\"\n",
      "  command: 1\n",
      "}\n",
      "bodyData: \"\\010\\001\"\n",
      "\n"
     ]
    },
    {
     "data": {
      "text/plain": [
       "(<MiniApiResultType.Success: 1>, isSuccess: true)"
      ]
     },
     "execution_count": 3,
     "metadata": {},
     "output_type": "execute_result"
    }
   ],
   "source": [
    "from mini.apis.api_action import PlayAction\n",
    "\n",
    "action = PlayAction(action_name=\"019\")\n",
    "await action.execute()\n",
    "\n",
    "action = PlayAction(action_name=\"018\")\n",
    "await action.execute()\n",
    "\n",
    "action = PlayAction(action_name=\"028\")\n",
    "await action.execute()"
   ]
  },
  {
   "cell_type": "code",
   "execution_count": 2,
   "metadata": {},
   "outputs": [
    {
     "name": "stderr",
     "output_type": "stream",
     "text": [
      "send cmd=4, identify='2', message=text: \"Hi! We\\'re going to be doing some awesome fitness together!\"\n",
      "type: 1\n",
      "\n",
      "recv msg: header {\n",
      "  id: \"2\"\n",
      "  command: 4\n",
      "}\n",
      "bodyData: \"\\010\\001\"\n",
      "\n",
      "send cmd=4, identify='3', message=text: \"Let\\'s start with some simple exercises, follow me.\"\n",
      "type: 1\n",
      "\n",
      "recv msg: header {\n",
      "  id: \"3\"\n",
      "  command: 4\n",
      "}\n",
      "bodyData: \"\\010\\001\"\n",
      "\n",
      "send cmd=1, identify='4', message=actionName: \"016\"\n",
      "\n",
      "recv msg: header {\n",
      "  id: \"4\"\n",
      "  command: 1\n",
      "}\n",
      "bodyData: \"\\010\\001\"\n",
      "\n",
      "send cmd=4, identify='5', message=text: \"That was fun, now for something a little bit harder. Again, follow me!\"\n",
      "type: 1\n",
      "\n",
      "recv msg: header {\n",
      "  id: \"5\"\n",
      "  command: 4\n",
      "}\n",
      "bodyData: \"\\010\\001\"\n",
      "\n",
      "send cmd=1, identify='6', message=actionName: \"012\"\n",
      "\n",
      "recv msg: header {\n",
      "  id: \"6\"\n",
      "  command: 1\n",
      "}\n",
      "bodyData: \"\\010\\001\"\n",
      "\n",
      "send cmd=4, identify='7', message=text: \"Wow, you\\'re really good at this! Well, for now this was it. You did amazing, see you next time!\"\n",
      "type: 1\n",
      "\n",
      "recv msg: header {\n",
      "  id: \"7\"\n",
      "  command: 4\n",
      "}\n",
      "bodyData: \"\\010\\001\"\n",
      "\n",
      "send cmd=1, identify='8', message=actionName: \"random_short3\"\n",
      "\n",
      "recv msg: header {\n",
      "  id: \"8\"\n",
      "  command: 1\n",
      "}\n",
      "bodyData: \"\\010\\001\"\n",
      "\n"
     ]
    },
    {
     "data": {
      "text/plain": [
       "(<MiniApiResultType.Success: 1>, isSuccess: true)"
      ]
     },
     "execution_count": 2,
     "metadata": {},
     "output_type": "execute_result"
    },
    {
     "name": "stderr",
     "output_type": "stream",
     "text": [
      "connection closed ok!\n"
     ]
    }
   ],
   "source": [
    "from mini.apis.api_action import PlayAction\n",
    "from mini.apis.api_sound import StartPlayTTS\n",
    "import time\n",
    "\n",
    "action = StartPlayTTS(text=\"Hi! We're going to be doing some awesome fitness together!\")\n",
    "await action.execute()\n",
    "\n",
    "action = StartPlayTTS(text=\"Let's start with some simple exercises, follow me.\")\n",
    "await action.execute()\n",
    "\n",
    "action = PlayAction(action_name=\"016\")\n",
    "await action.execute()\n",
    "\n",
    "time.sleep(4)\n",
    "\n",
    "action = StartPlayTTS(text=\"That was fun, now for something a little bit harder. Again, follow me!\")\n",
    "await action.execute()\n",
    "\n",
    "action = PlayAction(action_name=\"012\")\n",
    "await action.execute()\n",
    "\n",
    "time.sleep(5)\n",
    "\n",
    "action = StartPlayTTS(text=\"Wow, you're really good at this! Well, for now this was it. You did amazing, see you next time!\")\n",
    "await action.execute()\n",
    "\n",
    "action = PlayAction(action_name=\"random_short3\")\n",
    "await action.execute()"
   ]
  },
  {
   "cell_type": "code",
   "execution_count": 1,
   "metadata": {},
   "outputs": [
    {
     "name": "stderr",
     "output_type": "stream",
     "text": [
      "client is not alive\n",
      "client is not alive\n",
      "client is not alive\n",
      "client is not alive\n",
      "client is not alive\n",
      "client is not alive\n",
      "client is not alive\n"
     ]
    }
   ],
   "source": [
    "from mini.apis.api_action import PlayAction\n",
    "from mini.apis.api_sound import StartPlayTTS\n",
    "import time\n",
    "\n",
    "\"\"\"\n",
    "$ --> Say line\n",
    "@ --> Do action\n",
    "# --> Wait x seconds\n",
    "\"\"\"\n",
    "sequence = [\n",
    "    \"$Hi! We're going to be doing some awesome fitness together!\",\n",
    "    \"$Let's start with some simple exercises, follow me.\",\n",
    "    \"@016\",\n",
    "    \"$That was fun, now for something a little bit harder. Again, follow me!\",\n",
    "    \"@012\",\n",
    "    \"#5\"\n",
    "    \"$Wow, you're really good at this! Well, for now this was it. You did amazing, see you next time!\",\n",
    "    \"@random_short3\"\n",
    "]\n",
    "\n",
    "for string in sequence:\n",
    "    if string[0] == \"@\":\n",
    "        action = PlayAction(action_name=string[1:])\n",
    "        await action.execute()\n",
    "    elif string[0] == \"$\":\n",
    "        action = StartPlayTTS(text=string[1:])\n",
    "        await action.execute()\n",
    "    elif string[0] == \"#\":\n",
    "        time.sleep(int(string[1:]))\n",
    "    else:\n",
    "        action = StartPlayTTS(text=\"I do not know how to interpret this string! \" + string)\n",
    "        await action.execute()"
   ]
  }
 ],
 "metadata": {
  "kernelspec": {
   "display_name": "Python 3",
   "language": "python",
   "name": "python3"
  },
  "language_info": {
   "codemirror_mode": {
    "name": "ipython",
    "version": 3
   },
   "file_extension": ".py",
   "mimetype": "text/x-python",
   "name": "python",
   "nbconvert_exporter": "python",
   "pygments_lexer": "ipython3",
   "version": "3.10.1"
  },
  "orig_nbformat": 4
 },
 "nbformat": 4,
 "nbformat_minor": 2
}

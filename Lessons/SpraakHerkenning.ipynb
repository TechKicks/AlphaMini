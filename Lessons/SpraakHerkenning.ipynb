{
 "cells": [
  {
   "cell_type": "code",
   "execution_count": 1,
   "metadata": {},
   "outputs": [
    {
     "name": "stderr",
     "output_type": "stream",
     "text": [
      "start scanning...\n",
      "Address not available when adding 169.254.65.34 to multicast group, it is expected to happen on some systems\n",
      "Address not available when adding 169.254.67.228 to multicast group, it is expected to happen on some systems\n",
      "Find Device:  <class 'mini.dns.dns_browser.WiFiDevice'> name:Edu_030008KFK18122900534 address:192.168.0.173 port:51869 type:_Edu_mini_channel_server._tcp.local. server:Android-2.local.\n",
      "found device : <class 'mini.dns.dns_browser.WiFiDevice'> name:Edu_030008KFK18122900534 address:192.168.0.173 port:51869 type:_Edu_mini_channel_server._tcp.local. server:Android-2.local.\n",
      "stop scan finished.\n",
      "connect begin\n",
      "connect success\n",
      "send cmd=16, identify='1', message=\n"
     ]
    },
    {
     "name": "stdout",
     "output_type": "stream",
     "text": [
      "test_get_device_by_name result:<class 'mini.dns.dns_browser.WiFiDevice'> name:Edu_030008KFK18122900534 address:192.168.0.173 port:51869 type:_Edu_mini_channel_server._tcp.local. server:Android-2.local.\n"
     ]
    },
    {
     "name": "stderr",
     "output_type": "stream",
     "text": [
      "recv msg: header {\n",
      "  id: \"1\"\n",
      "  command: 16\n",
      "}\n",
      "bodyData: \"\\n\\034Alpha_Mini_outEdu-V1.4.4.888\\020\\001\"\n",
      "\n"
     ]
    }
   ],
   "source": [
    "import mini.mini_sdk as MiniSdk\n",
    "from mini.dns.dns_browser import WiFiDevice\n",
    "import logging\n",
    "\n",
    "MiniSdk.set_log_level(logging.INFO)\n",
    "MiniSdk.set_robot_type(MiniSdk.RobotType.EDU)\n",
    "\n",
    "async def main():\n",
    "    result: WiFiDevice = await MiniSdk.get_device_by_name(\"Edu_030008KFK18122900534\", 10)\n",
    "    print(f\"test_get_device_by_name result:{result}\")\n",
    "\n",
    "    if result:\n",
    "        await MiniSdk.connect(result)\n",
    "        await MiniSdk.enter_program()\n",
    "\n",
    "await main()"
   ]
  },
  {
   "cell_type": "code",
   "execution_count": null,
   "metadata": {},
   "outputs": [],
   "source": [
    "from mini.apis.api_sound import StartPlayTTS\n",
    "from mini.apis.api_observe import ObserveSpeechRecognise\n",
    "import asyncio\n",
    "\n",
    "observer = ObserveSpeechRecognise()\n",
    "\n",
    "def handler(msg):\n",
    "    print(\"Ik hoorde: \" + msg.text)\n",
    "    observer.stop()\n",
    "\n",
    "observer.set_handler(handler)\n",
    "observer.start()\n",
    "\n",
    "action = StartPlayTTS(text=\"I'm listening\")\n",
    "await action.execute()\n",
    "\n",
    "await asyncio.sleep(10)\n",
    "observer.stop()"
   ]
  },
  {
   "cell_type": "code",
   "execution_count": 18,
   "metadata": {
    "tags": []
   },
   "outputs": [
    {
     "name": "stderr",
     "output_type": "stream",
     "text": [
      "send cmd=4, identify='34', message=text: \"I\\'m listening\"\n",
      "type: 1\n",
      "\n",
      "send cmd=35, identify='0', message=\n",
      "recv msg: header {\n",
      "  id: \"34\"\n",
      "  command: 4\n",
      "}\n",
      "bodyData: \"\\010\\001\"\n",
      "\n",
      "recv msg: header {\n",
      "  id: \"0\"\n",
      "  command: 35\n",
      "}\n",
      "bodyData: \"\\010\\001\\032\\006a Mini\"\n",
      "\n"
     ]
    },
    {
     "name": "stdout",
     "output_type": "stream",
     "text": [
      "Ik hoorde: a Mini\n"
     ]
    },
    {
     "name": "stderr",
     "output_type": "stream",
     "text": [
      "recv msg: header {\n",
      "  id: \"0\"\n",
      "  command: 35\n",
      "}\n",
      "bodyData: \"\\010\\001\\032\\010hey Mini\"\n",
      "\n"
     ]
    },
    {
     "name": "stdout",
     "output_type": "stream",
     "text": [
      "Ik hoorde: hey Mini\n"
     ]
    },
    {
     "name": "stderr",
     "output_type": "stream",
     "text": [
      "recv msg: header {\n",
      "  id: \"0\"\n",
      "  command: 35\n",
      "}\n",
      "bodyData: \"\\010\\001\\032\\031Give me a fitness lesson.\"\n",
      "\n",
      "send cmd=4, identify='35', message=text: \"Hi! We\\'re going to be doing some awesome fitness together!\"\n",
      "type: 1\n",
      "\n"
     ]
    },
    {
     "name": "stdout",
     "output_type": "stream",
     "text": [
      "Ik hoorde: Give me a fitness lesson.\n"
     ]
    },
    {
     "name": "stderr",
     "output_type": "stream",
     "text": [
      "send cmd=39, identify='0', message=\n"
     ]
    },
    {
     "name": "stderr",
     "output_type": "stream",
     "text": [
      "recv msg: header {\n",
      "  id: \"0\"\n",
      "  command: 39\n",
      "}\n",
      "bodyData: \"\\010\\001\"\n",
      "\n",
      "2.ignore:cmd=39, cmd no handlers.\n",
      "recv msg: header {\n",
      "  id: \"35\"\n",
      "  command: 4\n",
      "}\n",
      "bodyData: \"\\010\\001\"\n",
      "\n",
      "send cmd=4, identify='36', message=text: \"Let\\'s start with some simple exercises, follow me.\"\n",
      "type: 1\n",
      "\n",
      "recv msg: header {\n",
      "  id: \"36\"\n",
      "  command: 4\n",
      "}\n",
      "bodyData: \"\\010\\001\"\n",
      "\n",
      "send cmd=1, identify='37', message=actionName: \"016\"\n",
      "\n",
      "recv msg: header {\n",
      "  id: \"37\"\n",
      "  command: 1\n",
      "}\n",
      "bodyData: \"\\010\\001\"\n",
      "\n",
      "send cmd=4, identify='38', message=text: \"That was fun, now for something a little bit harder. Again, follow me!\"\n",
      "type: 1\n",
      "\n",
      "recv msg: header {\n",
      "  id: \"38\"\n",
      "  command: 4\n",
      "}\n",
      "bodyData: \"\\010\\001\"\n",
      "\n",
      "send cmd=1, identify='39', message=actionName: \"012\"\n",
      "\n",
      "recv msg: header {\n",
      "  id: \"39\"\n",
      "  command: 1\n",
      "}\n",
      "bodyData: \"\\010\\001\"\n",
      "\n",
      "send cmd=4, identify='40', message=text: \"Wow, you\\'re really good at this! Well, for now this was it. You did amazing, see you next time!\"\n",
      "type: 1\n",
      "\n",
      "recv msg: header {\n",
      "  id: \"40\"\n",
      "  command: 4\n",
      "}\n",
      "bodyData: \"\\010\\001\"\n",
      "\n",
      "send cmd=1, identify='41', message=actionName: \"random_short3\"\n",
      "\n",
      "recv msg: header {\n",
      "  id: \"41\"\n",
      "  command: 1\n",
      "}\n",
      "bodyData: \"\\010\\001\"\n",
      "\n",
      "connection closed ok!\n"
     ]
    }
   ],
   "source": [
    "from mini.apis.api_sound import StartPlayTTS\n",
    "from mini.apis.api_observe import ObserveSpeechRecognise\n",
    "from mini.apis.api_action import PlayAction\n",
    "import asyncio\n",
    "import time\n",
    "\n",
    "observer = ObserveSpeechRecognise()\n",
    "\n",
    "sequence = [\n",
    "    \"$Hi! We're going to be doing some awesome fitness together!\",\n",
    "    \"$Let's start with some simple exercises, follow me.\",\n",
    "    \"@016\",\n",
    "    \"$That was fun, now for something a little bit harder. Again, follow me!\",\n",
    "    \"@012\",\n",
    "    \"$Wow, you're really good at this! Well, for now this was it. You did amazing, see you next time!\",\n",
    "    \"@random_short3\"\n",
    "]\n",
    "\n",
    "def handler(msg):\n",
    "    asyncio.gather()\n",
    "    print(\"Ik hoorde: \" + msg.text)\n",
    "\n",
    "    if (\"give me a fitness lesson\" in msg.text.lower()):\n",
    "        asyncio.gather(fitnessRoutine())\n",
    "        \n",
    "async def fitnessRoutine():\n",
    "    for string in sequence:\n",
    "        if string[0] == \"@\":\n",
    "            action = PlayAction(action_name=string[1:])\n",
    "            await action.execute()\n",
    "        elif string[0] == \"$\":\n",
    "            action = StartPlayTTS(text=string[1:])\n",
    "            await action.execute()\n",
    "        elif string[0] == \"#\":\n",
    "            time.sleep(int(string[1:]))\n",
    "        else:\n",
    "            action = StartPlayTTS(text=\"I do not know how to interpret this string! \" + string)\n",
    "            await action.execute()\n",
    "\n",
    "\n",
    "observer.set_handler(handler)\n",
    "observer.start()\n",
    "\n",
    "action = StartPlayTTS(text=\"I'm listening\")\n",
    "await action.execute()\n",
    "\n",
    "await asyncio.sleep(20)\n",
    "observer.stop()"
   ]
  }
 ],
 "metadata": {
  "kernelspec": {
   "display_name": "Python 3",
   "language": "python",
   "name": "python3"
  },
  "language_info": {
   "codemirror_mode": {
    "name": "ipython",
    "version": 3
   },
   "file_extension": ".py",
   "mimetype": "text/x-python",
   "name": "python",
   "nbconvert_exporter": "python",
   "pygments_lexer": "ipython3",
   "version": "3.8.2"
  },
  "orig_nbformat": 4
 },
 "nbformat": 4,
 "nbformat_minor": 2
}

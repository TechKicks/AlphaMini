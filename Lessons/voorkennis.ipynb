{
 "cells": [
  {
   "cell_type": "code",
   "execution_count": 5,
   "metadata": {},
   "outputs": [
    {
     "name": "stdout",
     "output_type": "stream",
     "text": [
      "21\n",
      "38\n"
     ]
    }
   ],
   "source": [
    "getal1 = 19\n",
    "iets_anders = 2\n",
    "\n",
    "print(getal1 + iets_anders)\n",
    "print(getal1 * iets_anders)"
   ]
  },
  {
   "cell_type": "code",
   "execution_count": 4,
   "metadata": {},
   "outputs": [
    {
     "name": "stdout",
     "output_type": "stream",
     "text": [
      "Deze code is gedraait!\n"
     ]
    }
   ],
   "source": [
    "def doSomething():\n",
    "    print(\"Deze code is gedraait!\")\n",
    "\n",
    "doSomething()"
   ]
  },
  {
   "cell_type": "code",
   "execution_count": 6,
   "metadata": {},
   "outputs": [
    {
     "name": "stdout",
     "output_type": "stream",
     "text": [
      "12\n",
      "1\n",
      "4\n"
     ]
    }
   ],
   "source": [
    "def telGetallenOp(a, b):\n",
    "    som = a + b\n",
    "    print(som)\n",
    "\n",
    "telGetallenOp(8, 4)\n",
    "telGetallenOp(-2, 3)\n",
    "telGetallenOp(2+2, 2-2)"
   ]
  },
  {
   "cell_type": "code",
   "execution_count": 7,
   "metadata": {},
   "outputs": [
    {
     "name": "stdout",
     "output_type": "stream",
     "text": [
      "Cijfer 2 is geen voldoende\n"
     ]
    }
   ],
   "source": [
    "cijfer1 = 6.6\n",
    "cijfer2 = 4.9\n",
    "\n",
    "if (cijfer1 < 5.5):\n",
    "    print(\"Cijfer 1 is geen voldoende\")\n",
    "\n",
    "if (cijfer2 < 5.5):\n",
    "    print(\"Cijfer 2 is geen voldoende\")"
   ]
  },
  {
   "cell_type": "code",
   "execution_count": 8,
   "metadata": {},
   "outputs": [
    {
     "name": "stdout",
     "output_type": "stream",
     "text": [
      "0\n",
      "1\n",
      "2\n",
      "3\n"
     ]
    }
   ],
   "source": [
    "teller = 0\n",
    "\n",
    "while (teller < 4):\n",
    "    print(teller)\n",
    "    teller = teller + 1\n",
    "    "
   ]
  },
  {
   "cell_type": "code",
   "execution_count": 1,
   "metadata": {},
   "outputs": [
    {
     "name": "stdout",
     "output_type": "stream",
     "text": [
      "appel\n",
      "peer\n"
     ]
    }
   ],
   "source": [
    "fruit = [\"appel\", \"banaan\", \"druif\", \"peer\"]\n",
    "\n",
    "print(fruit[0])\n",
    "print(fruit[3])"
   ]
  },
  {
   "cell_type": "code",
   "execution_count": 1,
   "metadata": {},
   "outputs": [
    {
     "name": "stdout",
     "output_type": "stream",
     "text": [
      "rood\n",
      "8\n"
     ]
    }
   ],
   "source": [
    "auto = {\n",
    "    \"kleur\": \"rood\",\n",
    "    \"leeftijd\": 8,\n",
    "    \"merk\": \"volvo\"\n",
    "}\n",
    "\n",
    "print(auto[\"kleur\"])\n",
    "print(auto[\"leeftijd\"])"
   ]
  }
 ],
 "metadata": {
  "kernelspec": {
   "display_name": "Python 3",
   "language": "python",
   "name": "python3"
  },
  "language_info": {
   "codemirror_mode": {
    "name": "ipython",
    "version": 3
   },
   "file_extension": ".py",
   "mimetype": "text/x-python",
   "name": "python",
   "nbconvert_exporter": "python",
   "pygments_lexer": "ipython3",
   "version": "3.10.1"
  },
  "orig_nbformat": 4
 },
 "nbformat": 4,
 "nbformat_minor": 2
}

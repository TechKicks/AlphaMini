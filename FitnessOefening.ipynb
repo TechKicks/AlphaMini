{
 "cells": [
  {
   "cell_type": "code",
   "execution_count": 52,
   "metadata": {},
   "outputs": [
    {
     "name": "stderr",
     "output_type": "stream",
     "text": [
      "start scanning...\n",
      "Address not available when adding 169.254.67.228 to multicast group, it is expected to happen on some systems\n",
      "Address not available when adding 169.254.67.228 to multicast group, it is expected to happen on some systems\n",
      "Address not available when adding 169.254.67.228 to multicast group, it is expected to happen on some systems\n",
      "Address not available when adding 169.254.67.228 to multicast group, it is expected to happen on some systems\n",
      "Address not available when adding 169.254.67.228 to multicast group, it is expected to happen on some systems\n",
      "Address not available when adding 169.254.65.34 to multicast group, it is expected to happen on some systems\n",
      "Address not available when adding 169.254.65.34 to multicast group, it is expected to happen on some systems\n",
      "Address not available when adding 169.254.65.34 to multicast group, it is expected to happen on some systems\n",
      "Address not available when adding 169.254.65.34 to multicast group, it is expected to happen on some systems\n",
      "Address not available when adding 169.254.65.34 to multicast group, it is expected to happen on some systems\n",
      "Find Device:  <class 'mini.dns.dns_browser.WiFiDevice'> name:Edu_030008KFK18122900534 address:192.168.0.173 port:51119 type:_Edu_mini_channel_server._tcp.local. server:Android.local.\n",
      "found device : <class 'mini.dns.dns_browser.WiFiDevice'> name:Edu_030008KFK18122900534 address:192.168.0.173 port:51119 type:_Edu_mini_channel_server._tcp.local. server:Android.local.\n",
      "stop scan finished.\n",
      "connect begin\n"
     ]
    },
    {
     "name": "stdout",
     "output_type": "stream",
     "text": [
      "test_get_device_by_name result:<class 'mini.dns.dns_browser.WiFiDevice'> name:Edu_030008KFK18122900534 address:192.168.0.173 port:51119 type:_Edu_mini_channel_server._tcp.local. server:Android.local.\n"
     ]
    },
    {
     "name": "stderr",
     "output_type": "stream",
     "text": [
      "connect success\n",
      "send cmd=16, identify='32', message=\n",
      "recv msg: header {\n",
      "  id: \"32\"\n",
      "  command: 16\n",
      "}\n",
      "bodyData: \"\\n\\034Alpha_Mini_outEdu-V1.4.4.888\\020\\001\"\n",
      "\n"
     ]
    }
   ],
   "source": [
    "import mini.mini_sdk as MiniSdk\n",
    "from mini.dns.dns_browser import WiFiDevice\n",
    "import logging\n",
    "\n",
    "MiniSdk.set_log_level(logging.INFO)\n",
    "MiniSdk.set_robot_type(MiniSdk.RobotType.EDU)\n",
    "\n",
    "async def main():\n",
    "    result: WiFiDevice = await MiniSdk.get_device_by_name(\"Edu_030008KFK18122900534\", 10)\n",
    "    print(f\"test_get_device_by_name result:{result}\")\n",
    "\n",
    "    if result:\n",
    "        await MiniSdk.connect(result)\n",
    "        await MiniSdk.enter_program()\n",
    "\n",
    "await main()"
   ]
  },
  {
   "cell_type": "code",
   "execution_count": 53,
   "metadata": {},
   "outputs": [
    {
     "name": "stderr",
     "output_type": "stream",
     "text": [
      "send cmd=1, identify='33', message=actionName: \"012\"\n",
      "\n",
      "recv msg: header {\n",
      "  id: \"33\"\n",
      "  command: 1\n",
      "}\n",
      "bodyData: \"\\010\\001\"\n",
      "\n"
     ]
    },
    {
     "data": {
      "text/plain": [
       "(<MiniApiResultType.Success: 1>, isSuccess: true)"
      ]
     },
     "execution_count": 53,
     "metadata": {},
     "output_type": "execute_result"
    }
   ],
   "source": [
    "from mini.apis.api_action import PlayAction\n",
    "\n",
    "action = PlayAction(action_name=\"012\")\n",
    "await action.execute()"
   ]
  },
  {
   "cell_type": "code",
   "execution_count": 55,
   "metadata": {},
   "outputs": [
    {
     "name": "stderr",
     "output_type": "stream",
     "text": [
      "send cmd=4, identify='41', message=text: \"Hi! We\\'re going to be doing some awesome fitness together!\"\n",
      "type: 1\n",
      "\n",
      "recv msg: header {\n",
      "  id: \"41\"\n",
      "  command: 4\n",
      "}\n",
      "bodyData: \"\\010\\001\"\n",
      "\n",
      "send cmd=4, identify='42', message=text: \"Let\\'s start with some simple exercises, follow me.\"\n",
      "type: 1\n",
      "\n",
      "recv msg: header {\n",
      "  id: \"42\"\n",
      "  command: 4\n",
      "}\n",
      "bodyData: \"\\010\\001\"\n",
      "\n",
      "send cmd=1, identify='43', message=actionName: \"016\"\n",
      "\n",
      "recv msg: header {\n",
      "  id: \"43\"\n",
      "  command: 1\n",
      "}\n",
      "bodyData: \"\\010\\001\"\n",
      "\n",
      "send cmd=4, identify='44', message=text: \"That was fun, now for something a little bit harder. Again, follow me!\"\n",
      "type: 1\n",
      "\n",
      "recv msg: header {\n",
      "  id: \"44\"\n",
      "  command: 4\n",
      "}\n",
      "bodyData: \"\\010\\001\"\n",
      "\n",
      "send cmd=1, identify='45', message=actionName: \"012\"\n",
      "\n",
      "recv msg: header {\n",
      "  id: \"45\"\n",
      "  command: 1\n",
      "}\n",
      "bodyData: \"\\010\\001\"\n",
      "\n",
      "send cmd=4, identify='46', message=text: \"Wow, you\\'re really good at this! Well, for now this was it. You did amazing, see you next time!\"\n",
      "type: 1\n",
      "\n",
      "recv msg: header {\n",
      "  id: \"46\"\n",
      "  command: 4\n",
      "}\n",
      "bodyData: \"\\010\\001\"\n",
      "\n",
      "send cmd=1, identify='47', message=actionName: \"random_short3\"\n",
      "\n",
      "recv msg: header {\n",
      "  id: \"47\"\n",
      "  command: 1\n",
      "}\n",
      "bodyData: \"\\010\\001\"\n",
      "\n"
     ]
    },
    {
     "data": {
      "text/plain": [
       "(<MiniApiResultType.Success: 1>, isSuccess: true)"
      ]
     },
     "execution_count": 55,
     "metadata": {},
     "output_type": "execute_result"
    }
   ],
   "source": [
    "from mini.apis.api_action import PlayAction\n",
    "from mini.apis.api_sound import StartPlayTTS\n",
    "import time\n",
    "\n",
    "action = StartPlayTTS(text=\"Hi! We're going to be doing some awesome fitness together!\")\n",
    "await action.execute()\n",
    "\n",
    "action = StartPlayTTS(text=\"Let's start with some simple exercises, follow me.\")\n",
    "await action.execute()\n",
    "\n",
    "action = PlayAction(action_name=\"016\")\n",
    "await action.execute()\n",
    "\n",
    "time.sleep(4)\n",
    "\n",
    "action = StartPlayTTS(text=\"That was fun, now for something a little bit harder. Again, follow me!\")\n",
    "await action.execute()\n",
    "\n",
    "action = PlayAction(action_name=\"012\")\n",
    "await action.execute()\n",
    "\n",
    "time.sleep(5)\n",
    "\n",
    "action = StartPlayTTS(text=\"Wow, you're really good at this! Well, for now this was it. You did amazing, see you next time!\")\n",
    "await action.execute()\n",
    "\n",
    "action = PlayAction(action_name=\"random_short3\")\n",
    "await action.execute()"
   ]
  },
  {
   "cell_type": "code",
   "execution_count": 61,
   "metadata": {},
   "outputs": [
    {
     "name": "stderr",
     "output_type": "stream",
     "text": [
      "send cmd=4, identify='64', message=text: \"Hi! We\\'re going to be doing some awesome fitness together!\"\n",
      "type: 1\n",
      "\n",
      "recv msg: header {\n",
      "  id: \"64\"\n",
      "  command: 4\n",
      "}\n",
      "bodyData: \"\\010\\001\"\n",
      "\n",
      "send cmd=4, identify='65', message=text: \"Let\\'s start with some simple exercises, follow me.\"\n",
      "type: 1\n",
      "\n"
     ]
    },
    {
     "ename": "CancelledError",
     "evalue": "",
     "output_type": "error",
     "traceback": [
      "\u001b[1;31m---------------------------------------------------------------------------\u001b[0m",
      "\u001b[1;31mCancelledError\u001b[0m                            Traceback (most recent call last)",
      "\u001b[1;32mc:\\Users\\sanne\\OneDrive\\Bureaublad\\AlphaMini\\AlphaMini\\FitnessOefening.ipynb Cell 4\u001b[0m in \u001b[0;36m2\n\u001b[0;32m     <a href='vscode-notebook-cell:/c%3A/Users/sanne/OneDrive/Bureaublad/AlphaMini/AlphaMini/FitnessOefening.ipynb#X13sZmlsZQ%3D%3D?line=21'>22</a>\u001b[0m \u001b[39melif\u001b[39;00m string[\u001b[39m0\u001b[39m] \u001b[39m==\u001b[39m \u001b[39m\"\u001b[39m\u001b[39m$\u001b[39m\u001b[39m\"\u001b[39m:\n\u001b[0;32m     <a href='vscode-notebook-cell:/c%3A/Users/sanne/OneDrive/Bureaublad/AlphaMini/AlphaMini/FitnessOefening.ipynb#X13sZmlsZQ%3D%3D?line=22'>23</a>\u001b[0m     action \u001b[39m=\u001b[39m StartPlayTTS(text\u001b[39m=\u001b[39mstring[\u001b[39m1\u001b[39m:])\n\u001b[1;32m---> <a href='vscode-notebook-cell:/c%3A/Users/sanne/OneDrive/Bureaublad/AlphaMini/AlphaMini/FitnessOefening.ipynb#X13sZmlsZQ%3D%3D?line=23'>24</a>\u001b[0m     \u001b[39mawait\u001b[39;00m action\u001b[39m.\u001b[39mexecute()\n\u001b[0;32m     <a href='vscode-notebook-cell:/c%3A/Users/sanne/OneDrive/Bureaublad/AlphaMini/AlphaMini/FitnessOefening.ipynb#X13sZmlsZQ%3D%3D?line=24'>25</a>\u001b[0m \u001b[39melif\u001b[39;00m string[\u001b[39m0\u001b[39m] \u001b[39m==\u001b[39m \u001b[39m\"\u001b[39m\u001b[39m#\u001b[39m\u001b[39m\"\u001b[39m:\n\u001b[0;32m     <a href='vscode-notebook-cell:/c%3A/Users/sanne/OneDrive/Bureaublad/AlphaMini/AlphaMini/FitnessOefening.ipynb#X13sZmlsZQ%3D%3D?line=25'>26</a>\u001b[0m     time\u001b[39m.\u001b[39msleep(\u001b[39mint\u001b[39m(string[\u001b[39m1\u001b[39m:]))\n",
      "File \u001b[1;32mc:\\Program Files\\Python38\\lib\\site-packages\\mini\\apis\\api_sound.py:70\u001b[0m, in \u001b[0;36mStartPlayTTS.execute\u001b[1;34m(self)\u001b[0m\n\u001b[0;32m     66\u001b[0m request\u001b[39m.\u001b[39mtype \u001b[39m=\u001b[39m \u001b[39mself\u001b[39m\u001b[39m.\u001b[39m__type\n\u001b[0;32m     68\u001b[0m cmd_id \u001b[39m=\u001b[39m _PCProgramCmdId\u001b[39m.\u001b[39mPLAY_TTS_REQUEST\u001b[39m.\u001b[39mvalue\n\u001b[1;32m---> 70\u001b[0m \u001b[39mreturn\u001b[39;00m \u001b[39mawait\u001b[39;00m \u001b[39mself\u001b[39m\u001b[39m.\u001b[39msend(cmd_id, request, timeout)\n",
      "File \u001b[1;32mc:\\Program Files\\Python38\\lib\\site-packages\\mini\\apis\\base_api.py:66\u001b[0m, in \u001b[0;36mBaseApi.send\u001b[1;34m(self, cmd_id, message, timeout)\u001b[0m\n\u001b[0;32m     64\u001b[0m     \u001b[39mreturn\u001b[39;00m \u001b[39mawait\u001b[39;00m socket\u001b[39m.\u001b[39msend_msg0(cmd_id, message)\n\u001b[0;32m     65\u001b[0m \u001b[39melse\u001b[39;00m:\n\u001b[1;32m---> 66\u001b[0m     result \u001b[39m=\u001b[39m \u001b[39mawait\u001b[39;00m socket\u001b[39m.\u001b[39msend_msg(cmd_id, message, timeout)\n\u001b[0;32m     67\u001b[0m     \u001b[39mif\u001b[39;00m result:\n\u001b[0;32m     68\u001b[0m         \u001b[39mif\u001b[39;00m result\u001b[39m.\u001b[39mheader\u001b[39m.\u001b[39mtarget \u001b[39m==\u001b[39m \u001b[39m-\u001b[39m\u001b[39m1\u001b[39m:\n",
      "File \u001b[1;32mc:\\Program Files\\Python38\\lib\\site-packages\\mini\\channels\\websocket_client.py:281\u001b[0m, in \u001b[0;36m_UBTWebSocketClient.send_msg\u001b[1;34m(self, cmd, message, timeout)\u001b[0m\n\u001b[0;32m    278\u001b[0m         log\u001b[39m.\u001b[39mwarning(\u001b[39mf\u001b[39m\u001b[39m'\u001b[39m\u001b[39msend message failure: \u001b[39m\u001b[39m{\u001b[39;00me2\u001b[39m}\u001b[39;00m\u001b[39m'\u001b[39m)\n\u001b[0;32m    280\u001b[0m \u001b[39mtry\u001b[39;00m:\n\u001b[1;32m--> 281\u001b[0m     \u001b[39mreturn\u001b[39;00m \u001b[39mawait\u001b[39;00m asyncio\u001b[39m.\u001b[39mwait_for(send1(), timeout)\n\u001b[0;32m    282\u001b[0m \u001b[39mexcept\u001b[39;00m \u001b[39mException\u001b[39;00m \u001b[39mas\u001b[39;00m e:\n\u001b[0;32m    283\u001b[0m     log\u001b[39m.\u001b[39mwarning(\u001b[39mf\u001b[39m\u001b[39m'\u001b[39m\u001b[39mrecv response  failure: \u001b[39m\u001b[39m{\u001b[39;00me\u001b[39m}\u001b[39;00m\u001b[39m'\u001b[39m)\n",
      "File \u001b[1;32mc:\\Program Files\\Python38\\lib\\asyncio\\tasks.py:476\u001b[0m, in \u001b[0;36mwait_for\u001b[1;34m(fut, timeout, loop)\u001b[0m\n\u001b[0;32m    473\u001b[0m \u001b[39mtry\u001b[39;00m:\n\u001b[0;32m    474\u001b[0m     \u001b[39m# wait until the future completes or the timeout\u001b[39;00m\n\u001b[0;32m    475\u001b[0m     \u001b[39mtry\u001b[39;00m:\n\u001b[1;32m--> 476\u001b[0m         \u001b[39mawait\u001b[39;00m waiter\n\u001b[0;32m    477\u001b[0m     \u001b[39mexcept\u001b[39;00m exceptions\u001b[39m.\u001b[39mCancelledError:\n\u001b[0;32m    478\u001b[0m         fut\u001b[39m.\u001b[39mremove_done_callback(cb)\n",
      "\u001b[1;31mCancelledError\u001b[0m: "
     ]
    },
    {
     "name": "stderr",
     "output_type": "stream",
     "text": [
      "recv msg: header {\n",
      "  id: \"65\"\n",
      "  command: 4\n",
      "}\n",
      "bodyData: \"\\010\\001\"\n",
      "\n"
     ]
    }
   ],
   "source": [
    "from mini.apis.api_action import PlayAction\n",
    "from mini.apis.api_sound import StartPlayTTS\n",
    "import time\n",
    "\n",
    "\"\"\"\n",
    "$ --> Say line\n",
    "@ --> Do action\n",
    "# --> Wait x seconds\n",
    "\"\"\"\n",
    "sequence = [\n",
    "    \"$Hi! We're going to be doing some awesome fitness together!\",\n",
    "    \"$Let's start with some simple exercises, follow me.\",\n",
    "    \"@016\",\n",
    "    \"#2\",\n",
    "    \"$That was fun, now for something a little bit harder. Again, follow me!\",\n",
    "    \"@012\",\n",
    "    \"#4\",\n",
    "    \"$Wow, you're really good at this! Well, for now this was it. You did amazing, see you next time!\",\n",
    "    \"@random_short3\"\n",
    "]\n",
    "\n",
    "for string in sequence:\n",
    "    if string[0] == \"@\":\n",
    "        action = PlayAction(action_name=string[1:])\n",
    "        await action.execute()\n",
    "    elif string[0] == \"$\":\n",
    "        action = StartPlayTTS(text=string[1:])\n",
    "        await action.execute()\n",
    "    elif string[0] == \"#\":\n",
    "        time.sleep(int(string[1:]))\n",
    "    else:\n",
    "        action = StartPlayTTS(text=\"I do not know how to interpret this string! \" + string)\n",
    "        await action.execute()\n",
    "\n",
    "    \n",
    "    "
   ]
  },
  {
   "cell_type": "code",
   "execution_count": null,
   "metadata": {},
   "outputs": [],
   "source": []
  }
 ],
 "metadata": {
  "kernelspec": {
   "display_name": "Python 3",
   "language": "python",
   "name": "python3"
  },
  "language_info": {
   "codemirror_mode": {
    "name": "ipython",
    "version": 3
   },
   "file_extension": ".py",
   "mimetype": "text/x-python",
   "name": "python",
   "nbconvert_exporter": "python",
   "pygments_lexer": "ipython3",
   "version": "3.8.2"
  },
  "orig_nbformat": 4
 },
 "nbformat": 4,
 "nbformat_minor": 2
}

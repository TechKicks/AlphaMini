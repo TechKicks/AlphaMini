{
 "cells": [
  {
   "cell_type": "code",
   "execution_count": 4,
   "metadata": {},
   "outputs": [
    {
     "name": "stdout",
     "output_type": "stream",
     "text": [
      "AlphaMini aan het zoeken...\n",
      "AlphaMini gevonden!\n",
      "Verbonden met AlphaMini!\n"
     ]
    }
   ],
   "source": [
    "from connect import connect\n",
    "await connect()"
   ]
  },
  {
   "cell_type": "code",
   "execution_count": 7,
   "metadata": {},
   "outputs": [
    {
     "name": "stdout",
     "output_type": "stream",
     "text": [
      "Greetings, freshmen! I am your friendly neighborhood robot here to test your knowledge on all things robotics. Let's see how well you do with these three questions!\n",
      "\n",
      "Question 1: What does the acronym \"AI\" stand for in robotics?\n",
      "\n",
      "Flavor text: Artificial Intelligence is an exciting field in robotics that allows machines to learn and make decisions on their own.\n",
      "\n",
      "Answer: AI stands for Artificial Intelligence, which is the simulation of human intelligence processes by machines.\n",
      "\n",
      "Question 2: What is a commonly used type of sensor in robotic applications that detects distance from objects?\n",
      "\n",
      "Flavor text: Sensors play a crucial role in allowing robots to interact with their environment and perform tasks accurately.\n",
      "\n",
      "Answer: One commonly used sensor in robotics is the ultrasonic sensor, which detects distance by emitting ultrasonic waves and measuring the time it takes for the waves to bounce back.\n",
      "\n",
      "Question 3: What is the term for a robot's ability to perform tasks without direct human input?\n",
      "\n",
      "Flavor text: Autonomy is a key feature in modern robotics, allowing robots to operate independently and make decisions in real-time.\n",
      "\n",
      "Answer: The term for a robot's ability to perform tasks without direct human input is autonomy, which is achieved through programming and artificial intelligence algorithms.\n",
      "\n",
      "Well done, freshmen! I hope you enjoyed testing your knowledge on robotics. Remember, the future is bright with robots by our side!\n"
     ]
    },
    {
     "ename": "CancelledError",
     "evalue": "",
     "output_type": "error",
     "traceback": [
      "\u001b[1;31m---------------------------------------------------------------------------\u001b[0m",
      "\u001b[1;31mCancelledError\u001b[0m                            Traceback (most recent call last)",
      "Cell \u001b[1;32mIn [7], line 6\u001b[0m\n\u001b[0;32m      4\u001b[0m reactie \u001b[38;5;241m=\u001b[39m sendChatGPTMessage(\u001b[38;5;124m\"\u001b[39m\u001b[38;5;124mHold a short trivia quiz with 3 questions about robotics for freshmen. Have a short intro of 2 sentences, introduce each question in 1 sentence, hold a short falvour text in the middle before giving the answer and moving on. End the quiz with a fun outro. Also you are a robot yourself.\u001b[39m\u001b[38;5;124m\"\u001b[39m)\n\u001b[0;32m      5\u001b[0m \u001b[38;5;28mprint\u001b[39m(reactie)\n\u001b[1;32m----> 6\u001b[0m \u001b[38;5;28;01mawait\u001b[39;00m StartPlayTTS(text\u001b[38;5;241m=\u001b[39mreactie)\u001b[38;5;241m.\u001b[39mexecute()\n",
      "File \u001b[1;32mc:\\Program Files\\Python38\\lib\\site-packages\\mini\\apis\\api_sound.py:70\u001b[0m, in \u001b[0;36mStartPlayTTS.execute\u001b[1;34m(self)\u001b[0m\n\u001b[0;32m     66\u001b[0m request\u001b[38;5;241m.\u001b[39mtype \u001b[38;5;241m=\u001b[39m \u001b[38;5;28mself\u001b[39m\u001b[38;5;241m.\u001b[39m__type\n\u001b[0;32m     68\u001b[0m cmd_id \u001b[38;5;241m=\u001b[39m _PCProgramCmdId\u001b[38;5;241m.\u001b[39mPLAY_TTS_REQUEST\u001b[38;5;241m.\u001b[39mvalue\n\u001b[1;32m---> 70\u001b[0m \u001b[38;5;28;01mreturn\u001b[39;00m \u001b[38;5;28;01mawait\u001b[39;00m \u001b[38;5;28mself\u001b[39m\u001b[38;5;241m.\u001b[39msend(cmd_id, request, timeout)\n",
      "File \u001b[1;32mc:\\Program Files\\Python38\\lib\\site-packages\\mini\\apis\\base_api.py:66\u001b[0m, in \u001b[0;36mBaseApi.send\u001b[1;34m(self, cmd_id, message, timeout)\u001b[0m\n\u001b[0;32m     64\u001b[0m     \u001b[38;5;28;01mreturn\u001b[39;00m \u001b[38;5;28;01mawait\u001b[39;00m socket\u001b[38;5;241m.\u001b[39msend_msg0(cmd_id, message)\n\u001b[0;32m     65\u001b[0m \u001b[38;5;28;01melse\u001b[39;00m:\n\u001b[1;32m---> 66\u001b[0m     result \u001b[38;5;241m=\u001b[39m \u001b[38;5;28;01mawait\u001b[39;00m socket\u001b[38;5;241m.\u001b[39msend_msg(cmd_id, message, timeout)\n\u001b[0;32m     67\u001b[0m     \u001b[38;5;28;01mif\u001b[39;00m result:\n\u001b[0;32m     68\u001b[0m         \u001b[38;5;28;01mif\u001b[39;00m result\u001b[38;5;241m.\u001b[39mheader\u001b[38;5;241m.\u001b[39mtarget \u001b[38;5;241m==\u001b[39m \u001b[38;5;241m-\u001b[39m\u001b[38;5;241m1\u001b[39m:\n",
      "File \u001b[1;32mc:\\Program Files\\Python38\\lib\\site-packages\\mini\\channels\\websocket_client.py:281\u001b[0m, in \u001b[0;36m_UBTWebSocketClient.send_msg\u001b[1;34m(self, cmd, message, timeout)\u001b[0m\n\u001b[0;32m    278\u001b[0m         log\u001b[38;5;241m.\u001b[39mwarning(\u001b[38;5;124mf\u001b[39m\u001b[38;5;124m'\u001b[39m\u001b[38;5;124msend message failure: \u001b[39m\u001b[38;5;132;01m{\u001b[39;00me2\u001b[38;5;132;01m}\u001b[39;00m\u001b[38;5;124m'\u001b[39m)\n\u001b[0;32m    280\u001b[0m \u001b[38;5;28;01mtry\u001b[39;00m:\n\u001b[1;32m--> 281\u001b[0m     \u001b[38;5;28;01mreturn\u001b[39;00m \u001b[38;5;28;01mawait\u001b[39;00m asyncio\u001b[38;5;241m.\u001b[39mwait_for(send1(), timeout)\n\u001b[0;32m    282\u001b[0m \u001b[38;5;28;01mexcept\u001b[39;00m \u001b[38;5;167;01mException\u001b[39;00m \u001b[38;5;28;01mas\u001b[39;00m e:\n\u001b[0;32m    283\u001b[0m     log\u001b[38;5;241m.\u001b[39mwarning(\u001b[38;5;124mf\u001b[39m\u001b[38;5;124m'\u001b[39m\u001b[38;5;124mrecv response  failure: \u001b[39m\u001b[38;5;132;01m{\u001b[39;00me\u001b[38;5;132;01m}\u001b[39;00m\u001b[38;5;124m'\u001b[39m)\n",
      "File \u001b[1;32mc:\\Program Files\\Python38\\lib\\asyncio\\tasks.py:476\u001b[0m, in \u001b[0;36mwait_for\u001b[1;34m(fut, timeout, loop)\u001b[0m\n\u001b[0;32m    473\u001b[0m \u001b[38;5;28;01mtry\u001b[39;00m:\n\u001b[0;32m    474\u001b[0m     \u001b[38;5;66;03m# wait until the future completes or the timeout\u001b[39;00m\n\u001b[0;32m    475\u001b[0m     \u001b[38;5;28;01mtry\u001b[39;00m:\n\u001b[1;32m--> 476\u001b[0m         \u001b[38;5;28;01mawait\u001b[39;00m waiter\n\u001b[0;32m    477\u001b[0m     \u001b[38;5;28;01mexcept\u001b[39;00m exceptions\u001b[38;5;241m.\u001b[39mCancelledError:\n\u001b[0;32m    478\u001b[0m         fut\u001b[38;5;241m.\u001b[39mremove_done_callback(cb)\n",
      "\u001b[1;31mCancelledError\u001b[0m: "
     ]
    }
   ],
   "source": [
    "from mini.apis.api_sound import StartPlayTTS, StopPlayTTS\n",
    "from chatGPT import sendChatGPTMessage\n",
    "\n",
    "reactie = sendChatGPTMessage(\"Hold a short trivia quiz with 3 questions about robotics for freshmen. Have a short intro of 2 sentences, introduce each question in 1 sentence, hold a short falvour text in the middle before giving the answer and moving on. End the quiz with a fun outro. Also you are a robot yourself.\")\n",
    "await StartPlayTTS(text=reactie).execute()"
   ]
  },
  {
   "cell_type": "code",
   "execution_count": 9,
   "metadata": {},
   "outputs": [
    {
     "data": {
      "text/plain": [
       "(<MiniApiResultType.Success: 1>, isSuccess: true)"
      ]
     },
     "execution_count": 9,
     "metadata": {},
     "output_type": "execute_result"
    }
   ],
   "source": [
    "from mini.apis.api_sound import StartPlayTTS, StopPlayTTS\n",
    "\n",
    "await StopPlayTTS().execute()"
   ]
  }
 ],
 "metadata": {
  "kernelspec": {
   "display_name": "Python 3",
   "language": "python",
   "name": "python3"
  },
  "language_info": {
   "codemirror_mode": {
    "name": "ipython",
    "version": 3
   },
   "file_extension": ".py",
   "mimetype": "text/x-python",
   "name": "python",
   "nbconvert_exporter": "python",
   "pygments_lexer": "ipython3",
   "version": "3.8.2"
  }
 },
 "nbformat": 4,
 "nbformat_minor": 2
}

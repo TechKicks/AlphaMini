{
 "cells": [
  {
   "cell_type": "code",
   "execution_count": 1,
   "metadata": {},
   "outputs": [
    {
     "name": "stderr",
     "output_type": "stream",
     "text": [
      "start scanning...\n",
      "Address not available when adding 169.254.251.189 to multicast group, it is expected to happen on some systems\n",
      "Address not available when adding 169.254.39.80 to multicast group, it is expected to happen on some systems\n",
      "Address not available when adding 169.254.246.59 to multicast group, it is expected to happen on some systems\n",
      "Address not available when adding 169.254.66.10 to multicast group, it is expected to happen on some systems\n",
      "Find Device:  <class 'mini.dns.dns_browser.WiFiDevice'> name:Edu_030008KFK18122900534 address:192.168.0.173 port:50681 type:_Edu_mini_channel_server._tcp.local. server:Android.local.\n",
      "found device : <class 'mini.dns.dns_browser.WiFiDevice'> name:Edu_030008KFK18122900534 address:192.168.0.173 port:50681 type:_Edu_mini_channel_server._tcp.local. server:Android.local.\n",
      "stop scan finished.\n",
      "connect begin\n",
      "connect success\n"
     ]
    },
    {
     "name": "stdout",
     "output_type": "stream",
     "text": [
      "test_get_device_by_name result:<class 'mini.dns.dns_browser.WiFiDevice'> name:Edu_030008KFK18122900534 address:192.168.0.173 port:50681 type:_Edu_mini_channel_server._tcp.local. server:Android.local.\n"
     ]
    },
    {
     "name": "stderr",
     "output_type": "stream",
     "text": [
      "send cmd=16, identify='1', message=\n",
      "recv msg: header {\n",
      "  id: \"1\"\n",
      "  command: 16\n",
      "}\n",
      "bodyData: \"\\n\\034Alpha_Mini_outEdu-V1.4.4.888\\020\\001\"\n",
      "\n"
     ]
    }
   ],
   "source": [
    "from AlphaMini import ConnectToAlphaMini;\n",
    "\n",
    "await ConnectToAlphaMini()"
   ]
  },
  {
   "cell_type": "code",
   "execution_count": 3,
   "metadata": {},
   "outputs": [
    {
     "name": "stdout",
     "output_type": "stream",
     "text": [
      "Thinking of some awesome questions... Please wait at least 10 seconds...\n"
     ]
    },
    {
     "name": "stderr",
     "output_type": "stream",
     "text": [
      "send cmd=23, identify='4', message=cloud {\n",
      "  url: \"http://api.voicerss.org/?key=cc4ba25d57e94db3884a609a7375f7c9&hl=nl-nl&src=Wat is het verhaal achter Sinterklaas?\"\n",
      "  type: NET_PUBLIC\n",
      "}\n",
      "volume: 1.0\n",
      "\n"
     ]
    },
    {
     "name": "stdout",
     "output_type": "stream",
     "text": [
      "Asking: Wat is het verhaal achter Sinterklaas?\n",
      "Saying: Wat is het verhaal achter Sinterklaas?\n"
     ]
    },
    {
     "name": "stderr",
     "output_type": "stream",
     "text": [
      "recv msg: header {\n",
      "  id: \"4\"\n",
      "  command: 23\n",
      "}\n",
      "bodyData: \"\\010\\001\"\n",
      "\n",
      "send cmd=4, identify='5', message=text: \"I\\'m Listening\"\n",
      "type: 1\n",
      "\n",
      "recv msg: header {\n",
      "  id: \"5\"\n",
      "  command: 4\n",
      "}\n",
      "bodyData: \"\\010\\001\"\n",
      "\n",
      "send cmd=35, identify='0', message=\n",
      "recv msg: header {\n",
      "  id: \"0\"\n",
      "  command: 35\n",
      "}\n",
      "bodyData: \"\\010\\001\\032\\023Can you explain it?\"\n",
      "\n"
     ]
    },
    {
     "name": "stdout",
     "output_type": "stream",
     "text": [
      "Answered: Can you explain it?\n",
      "Antwoord aan het verwerken... Wacht een aantal seconden...\n"
     ]
    },
    {
     "name": "stderr",
     "output_type": "stream",
     "text": [
      "send cmd=39, identify='0', message=\n",
      "send cmd=23, identify='6', message=cloud {\n",
      "  url: \"http://api.voicerss.org/?key=cc4ba25d57e94db3884a609a7375f7c9&hl=nl-nl&src=Juist!\"\n",
      "  type: NET_PUBLIC\n",
      "}\n",
      "volume: 1.0\n",
      "\n"
     ]
    },
    {
     "name": "stdout",
     "output_type": "stream",
     "text": [
      "Saying: Juist!\n"
     ]
    },
    {
     "name": "stderr",
     "output_type": "stream",
     "text": [
      "recv msg: header {\n",
      "  id: \"0\"\n",
      "  command: 39\n",
      "}\n",
      "bodyData: \"\\010\\001\"\n",
      "\n",
      "2.ignore:cmd=39, cmd no handlers.\n",
      "recv msg: header {\n",
      "  id: \"6\"\n",
      "  command: 23\n",
      "}\n",
      "bodyData: \"\\010\\001\"\n",
      "\n",
      "send cmd=23, identify='7', message=cloud {\n",
      "  url: \"http://api.voicerss.org/?key=cc4ba25d57e94db3884a609a7375f7c9&hl=nl-nl&src=Wat is het verschil tussen Koningsdag en Prinsjesdag?\"\n",
      "  type: NET_PUBLIC\n",
      "}\n",
      "volume: 1.0\n",
      "\n"
     ]
    },
    {
     "name": "stdout",
     "output_type": "stream",
     "text": [
      "Asking: Wat is het verschil tussen Koningsdag en Prinsjesdag?\n",
      "Saying: Wat is het verschil tussen Koningsdag en Prinsjesdag?\n"
     ]
    },
    {
     "name": "stderr",
     "output_type": "stream",
     "text": [
      "recv msg: header {\n",
      "  id: \"7\"\n",
      "  command: 23\n",
      "}\n",
      "bodyData: \"\\010\\001\"\n",
      "\n",
      "send cmd=4, identify='8', message=text: \"I\\'m Listening\"\n",
      "type: 1\n",
      "\n"
     ]
    },
    {
     "name": "stderr",
     "output_type": "stream",
     "text": [
      "recv msg: header {\n",
      "  id: \"8\"\n",
      "  command: 4\n",
      "}\n",
      "bodyData: \"\\010\\001\"\n",
      "\n",
      "send cmd=35, identify='0', message=\n",
      "recv msg: header {\n",
      "  id: \"0\"\n",
      "  command: 35\n",
      "}\n",
      "bodyData: \"\\010\\001\\032\\023Turn off the sound.\"\n",
      "\n"
     ]
    },
    {
     "name": "stdout",
     "output_type": "stream",
     "text": [
      "Answered: Turn off the sound.\n",
      "Antwoord aan het verwerken... Wacht een aantal seconden...\n"
     ]
    },
    {
     "name": "stderr",
     "output_type": "stream",
     "text": [
      "send cmd=39, identify='0', message=\n",
      "send cmd=23, identify='9', message=cloud {\n",
      "  url: \"http://api.voicerss.org/?key=cc4ba25d57e94db3884a609a7375f7c9&hl=nl-nl&src=Fout!\"\n",
      "  type: NET_PUBLIC\n",
      "}\n",
      "volume: 1.0\n",
      "\n",
      "recv msg: header {\n",
      "  id: \"0\"\n",
      "  command: 39\n",
      "}\n",
      "bodyData: \"\\010\\001\"\n",
      "\n",
      "2.ignore:cmd=39, cmd no handlers.\n"
     ]
    },
    {
     "name": "stdout",
     "output_type": "stream",
     "text": [
      "Saying: Fout!\n"
     ]
    },
    {
     "name": "stderr",
     "output_type": "stream",
     "text": [
      "recv msg: header {\n",
      "  id: \"9\"\n",
      "  command: 23\n",
      "}\n",
      "bodyData: \"\\010\\001\"\n",
      "\n",
      "send cmd=23, identify='10', message=cloud {\n",
      "  url: \"http://api.voicerss.org/?key=cc4ba25d57e94db3884a609a7375f7c9&hl=nl-nl&src=Hoe viert Nederland Oud en Nieuw?\"\n",
      "  type: NET_PUBLIC\n",
      "}\n",
      "volume: 1.0\n",
      "\n"
     ]
    },
    {
     "name": "stdout",
     "output_type": "stream",
     "text": [
      "Asking: Hoe viert Nederland Oud en Nieuw?\n",
      "Saying: Hoe viert Nederland Oud en Nieuw?\n"
     ]
    },
    {
     "name": "stderr",
     "output_type": "stream",
     "text": [
      "recv msg: header {\n",
      "  id: \"10\"\n",
      "  command: 23\n",
      "}\n",
      "bodyData: \"\\010\\001\"\n",
      "\n",
      "send cmd=4, identify='11', message=text: \"I\\'m Listening\"\n",
      "type: 1\n",
      "\n",
      "recv msg: header {\n",
      "  id: \"11\"\n",
      "  command: 4\n",
      "}\n",
      "bodyData: \"\\010\\001\"\n",
      "\n",
      "send cmd=35, identify='0', message=\n",
      "recv msg: header {\n",
      "  id: \"0\"\n",
      "  command: 35\n",
      "}\n",
      "bodyData: \"\\010\\001\\032\\010firework\"\n",
      "\n"
     ]
    },
    {
     "name": "stdout",
     "output_type": "stream",
     "text": [
      "Answered: firework\n",
      "Antwoord aan het verwerken... Wacht een aantal seconden...\n"
     ]
    },
    {
     "name": "stderr",
     "output_type": "stream",
     "text": [
      "send cmd=39, identify='0', message=\n",
      "send cmd=23, identify='12', message=cloud {\n",
      "  url: \"http://api.voicerss.org/?key=cc4ba25d57e94db3884a609a7375f7c9&hl=nl-nl&src=Juist!\"\n",
      "  type: NET_PUBLIC\n",
      "}\n",
      "volume: 1.0\n",
      "\n"
     ]
    },
    {
     "name": "stdout",
     "output_type": "stream",
     "text": [
      "Saying: Juist!\n"
     ]
    },
    {
     "name": "stderr",
     "output_type": "stream",
     "text": [
      "recv msg: header {\n",
      "  id: \"0\"\n",
      "  command: 39\n",
      "}\n",
      "bodyData: \"\\010\\001\"\n",
      "\n",
      "2.ignore:cmd=39, cmd no handlers.\n",
      "recv msg: header {\n",
      "  id: \"12\"\n",
      "  command: 23\n",
      "}\n",
      "bodyData: \"\\010\\001\"\n",
      "\n",
      "send cmd=23, identify='13', message=cloud {\n",
      "  url: \"http://api.voicerss.org/?key=cc4ba25d57e94db3884a609a7375f7c9&hl=nl-nl&src=Wat zijn typische Nederlandse gerechten die tijdens Kerstmis worden gegeten?\"\n",
      "  type: NET_PUBLIC\n",
      "}\n",
      "volume: 1.0\n",
      "\n"
     ]
    },
    {
     "name": "stdout",
     "output_type": "stream",
     "text": [
      "Asking: Wat zijn typische Nederlandse gerechten die tijdens Kerstmis worden gegeten?\n",
      "Saying: Wat zijn typische Nederlandse gerechten die tijdens Kerstmis worden gegeten?\n"
     ]
    },
    {
     "name": "stderr",
     "output_type": "stream",
     "text": [
      "recv msg: header {\n",
      "  id: \"13\"\n",
      "  command: 23\n",
      "}\n",
      "bodyData: \"\\010\\001\"\n",
      "\n",
      "send cmd=4, identify='14', message=text: \"I\\'m Listening\"\n",
      "type: 1\n",
      "\n",
      "recv msg: header {\n",
      "  id: \"14\"\n",
      "  command: 4\n",
      "}\n",
      "bodyData: \"\\010\\001\"\n",
      "\n",
      "send cmd=35, identify='0', message=\n",
      "recv msg: header {\n",
      "  id: \"0\"\n",
      "  command: 35\n",
      "}\n",
      "bodyData: \"\\010\\001\\032\\006Turkey\"\n",
      "\n"
     ]
    },
    {
     "name": "stdout",
     "output_type": "stream",
     "text": [
      "Answered: Turkey\n",
      "Antwoord aan het verwerken... Wacht een aantal seconden...\n"
     ]
    },
    {
     "name": "stderr",
     "output_type": "stream",
     "text": [
      "send cmd=39, identify='0', message=\n",
      "send cmd=23, identify='15', message=cloud {\n",
      "  url: \"http://api.voicerss.org/?key=cc4ba25d57e94db3884a609a7375f7c9&hl=nl-nl&src=Fout!\"\n",
      "  type: NET_PUBLIC\n",
      "}\n",
      "volume: 1.0\n",
      "\n",
      "recv msg: header {\n",
      "  id: \"0\"\n",
      "  command: 39\n",
      "}\n",
      "bodyData: \"\\010\\001\"\n",
      "\n",
      "2.ignore:cmd=39, cmd no handlers.\n"
     ]
    },
    {
     "name": "stdout",
     "output_type": "stream",
     "text": [
      "Saying: Fout!\n"
     ]
    },
    {
     "name": "stderr",
     "output_type": "stream",
     "text": [
      "recv msg: header {\n",
      "  id: \"15\"\n",
      "  command: 23\n",
      "}\n",
      "bodyData: \"\\010\\001\"\n",
      "\n",
      "send cmd=23, identify='16', message=cloud {\n",
      "  url: \"http://api.voicerss.org/?key=cc4ba25d57e94db3884a609a7375f7c9&hl=nl-nl&src=Waarom is de kleur oranje zo belangrijk in Nederland?\"\n",
      "  type: NET_PUBLIC\n",
      "}\n",
      "volume: 1.0\n",
      "\n"
     ]
    },
    {
     "name": "stdout",
     "output_type": "stream",
     "text": [
      "Asking: Waarom is de kleur oranje zo belangrijk in Nederland?\n",
      "Saying: Waarom is de kleur oranje zo belangrijk in Nederland?\n"
     ]
    },
    {
     "name": "stderr",
     "output_type": "stream",
     "text": [
      "recv msg: header {\n",
      "  id: \"16\"\n",
      "  command: 23\n",
      "}\n",
      "bodyData: \"\\010\\001\"\n",
      "\n",
      "send cmd=4, identify='17', message=text: \"I\\'m Listening\"\n",
      "type: 1\n",
      "\n",
      "recv msg: header {\n",
      "  id: \"17\"\n",
      "  command: 4\n",
      "}\n",
      "bodyData: \"\\010\\001\"\n",
      "\n",
      "send cmd=35, identify='0', message=\n",
      "recv msg: header {\n",
      "  id: \"0\"\n",
      "  command: 35\n",
      "}\n",
      "bodyData: \"\\010\\001\\032\\026It\\'s the royal family.\"\n",
      "\n"
     ]
    },
    {
     "name": "stdout",
     "output_type": "stream",
     "text": [
      "Answered: It's the royal family.\n",
      "Antwoord aan het verwerken... Wacht een aantal seconden...\n"
     ]
    },
    {
     "name": "stderr",
     "output_type": "stream",
     "text": [
      "send cmd=39, identify='0', message=\n",
      "send cmd=23, identify='18', message=cloud {\n",
      "  url: \"http://api.voicerss.org/?key=cc4ba25d57e94db3884a609a7375f7c9&hl=nl-nl&src=Fout!\"\n",
      "  type: NET_PUBLIC\n",
      "}\n",
      "volume: 1.0\n",
      "\n",
      "recv msg: header {\n",
      "  id: \"0\"\n",
      "  command: 39\n",
      "}\n",
      "bodyData: \"\\010\\001\"\n",
      "\n",
      "2.ignore:cmd=39, cmd no handlers.\n"
     ]
    },
    {
     "name": "stdout",
     "output_type": "stream",
     "text": [
      "Saying: Fout!\n"
     ]
    },
    {
     "name": "stderr",
     "output_type": "stream",
     "text": [
      "recv msg: header {\n",
      "  id: \"18\"\n",
      "  command: 23\n",
      "}\n",
      "bodyData: \"\\010\\001\"\n",
      "\n",
      "send cmd=23, identify='19', message=cloud {\n",
      "  url: \"http://api.voicerss.org/?key=cc4ba25d57e94db3884a609a7375f7c9&hl=nl-nl&src=Je bent klaar, geweldig gedaan!\"\n",
      "  type: NET_PUBLIC\n",
      "}\n",
      "volume: 1.0\n",
      "\n"
     ]
    },
    {
     "name": "stdout",
     "output_type": "stream",
     "text": [
      "Done!\n",
      "Saying: Je bent klaar, geweldig gedaan!\n"
     ]
    },
    {
     "name": "stderr",
     "output_type": "stream",
     "text": [
      "recv msg: header {\n",
      "  id: \"19\"\n",
      "  command: 23\n",
      "}\n",
      "bodyData: \"\\010\\001\"\n",
      "\n"
     ]
    }
   ],
   "source": [
    "from OpenAILessonHandler import OpenAILessonHandler;\n",
    "from AlphaMini import translateAndSay, listenToFirstAnswer;\n",
    "import asyncio\n",
    "\n",
    "from mini.apis.api_observe import ObserveSpeechRecognise\n",
    "\n",
    "observer = ObserveSpeechRecognise()\n",
    "\n",
    "openAILessonHandler = OpenAILessonHandler()\n",
    "questions = openAILessonHandler.generateQuestions();\n",
    "\n",
    "def checkAnswer(msg):\n",
    "    print(\"Answered: \" + msg.text)\n",
    "    observer.stop()\n",
    "\n",
    "    isCorrect = openAILessonHandler.isAnswerCorrect(msg.text, questions[OpenAILessonHandler.index])\n",
    "\n",
    "    OpenAILessonHandler.index += 1\n",
    "\n",
    "    asyncio.gather(replyToAnswer(isCorrect))\n",
    "\n",
    "\n",
    "async def replyToAnswer(isCorrect):\n",
    "    if (isCorrect):\n",
    "        await translateAndSay(\"Correct!\", \"nl\", \"nl-nl\")\n",
    "    else:\n",
    "        await translateAndSay(\"Wrong!\", \"nl\", \"nl-nl\")\n",
    "\n",
    "    if (OpenAILessonHandler.index >= 5):\n",
    "        print(\"Done!\")\n",
    "\n",
    "        asyncio.gather(translateAndSay(f\"Je bent klaar, geweldig gedaan!\", \"nl\", \"nl-nl\"))\n",
    "        return\n",
    "\n",
    "    await askNextQuestion()\n",
    "\n",
    "\n",
    "async def askNextQuestion():\n",
    "    print(\"Asking: \" + str(questions[OpenAILessonHandler.index]))\n",
    "    await translateAndSay(questions[OpenAILessonHandler.index], \"nl\", \"nl-nl\")\n",
    "    await listenToFirstAnswer(observer, checkAnswer)\n",
    "\n",
    "asyncio.gather(askNextQuestion())\n",
    "\n",
    "await asyncio.sleep(20)"
   ]
  },
  {
   "cell_type": "code",
   "execution_count": null,
   "metadata": {},
   "outputs": [],
   "source": []
  }
 ],
 "metadata": {
  "kernelspec": {
   "display_name": "Python 3",
   "language": "python",
   "name": "python3"
  },
  "language_info": {
   "codemirror_mode": {
    "name": "ipython",
    "version": 3
   },
   "file_extension": ".py",
   "mimetype": "text/x-python",
   "name": "python",
   "nbconvert_exporter": "python",
   "pygments_lexer": "ipython3",
   "version": "3.10.1"
  },
  "orig_nbformat": 4
 },
 "nbformat": 4,
 "nbformat_minor": 2
}

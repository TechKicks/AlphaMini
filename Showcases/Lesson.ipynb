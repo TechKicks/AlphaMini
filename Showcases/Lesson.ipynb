{
 "cells": [
  {
   "cell_type": "code",
   "execution_count": 2,
   "metadata": {},
   "outputs": [
    {
     "name": "stderr",
     "output_type": "stream",
     "text": [
      "start scanning...\n",
      "Address not available when adding 169.254.251.189 to multicast group, it is expected to happen on some systems\n",
      "Address not available when adding 169.254.251.189 to multicast group, it is expected to happen on some systems\n",
      "Address not available when adding 169.254.66.10 to multicast group, it is expected to happen on some systems\n",
      "Address not available when adding 169.254.66.10 to multicast group, it is expected to happen on some systems\n",
      "Address not available when adding 169.254.246.59 to multicast group, it is expected to happen on some systems\n",
      "Address not available when adding 169.254.246.59 to multicast group, it is expected to happen on some systems\n",
      "Address not available when adding 169.254.39.80 to multicast group, it is expected to happen on some systems\n",
      "Address not available when adding 169.254.39.80 to multicast group, it is expected to happen on some systems\n",
      "Find Device:  <class 'mini.dns.dns_browser.WiFiDevice'> name:Edu_030008KFK18122900534 address:192.168.0.173 port:51991 type:_Edu_mini_channel_server._tcp.local. server:Android.local.\n",
      "found device : <class 'mini.dns.dns_browser.WiFiDevice'> name:Edu_030008KFK18122900534 address:192.168.0.173 port:51991 type:_Edu_mini_channel_server._tcp.local. server:Android.local.\n",
      "stop scan finished.\n",
      "connect begin\n",
      "connect success\n",
      "send cmd=16, identify='1', message=\n"
     ]
    },
    {
     "name": "stdout",
     "output_type": "stream",
     "text": [
      "test_get_device_by_name result:<class 'mini.dns.dns_browser.WiFiDevice'> name:Edu_030008KFK18122900534 address:192.168.0.173 port:51991 type:_Edu_mini_channel_server._tcp.local. server:Android.local.\n"
     ]
    },
    {
     "name": "stderr",
     "output_type": "stream",
     "text": [
      "recv msg: header {\n",
      "  id: \"1\"\n",
      "  command: 16\n",
      "}\n",
      "bodyData: \"\\n\\034Alpha_Mini_outEdu-V1.4.4.888\\020\\001\"\n",
      "\n"
     ]
    }
   ],
   "source": [
    "from AlphaMini import ConnectToAlphaMini;\n",
    "\n",
    "await ConnectToAlphaMini()"
   ]
  },
  {
   "cell_type": "code",
   "execution_count": null,
   "metadata": {},
   "outputs": [
    {
     "name": "stderr",
     "output_type": "stream",
     "text": [
      "connection closed ok!\n"
     ]
    },
    {
     "ename": "",
     "evalue": "",
     "output_type": "error",
     "traceback": [
      "\u001b[1;31mThe Kernel crashed while executing code in the the current cell or a previous cell. Please review the code in the cell(s) to identify a possible cause of the failure. Click <a href='https://aka.ms/vscodeJupyterKernelCrash'>here</a> for more info. View Jupyter <a href='command:jupyter.viewOutput'>log</a> for further details."
     ]
    }
   ],
   "source": [
    "from OpenAILessonHandler import OpenAILessonHandler;\n",
    "from AlphaMini import translateAndSay, listenToFirstAnswer;\n",
    "import asyncio\n",
    "\n",
    "from mini.apis.api_observe import ObserveSpeechRecognise\n",
    "\n",
    "observer = ObserveSpeechRecognise()\n",
    "\n",
    "openAILessonHandler = OpenAILessonHandler()\n",
    "questions = openAILessonHandler.generateQuestions();\n",
    "\n",
    "def checkAnswer(msg):\n",
    "    print(\"Answered: \" + msg.text)\n",
    "    observer.stop()\n",
    "\n",
    "    isCorrect = openAILessonHandler.isAnswerCorrect(msg.text, questions[OpenAILessonHandler.index])\n",
    "\n",
    "    OpenAILessonHandler.index += 1\n",
    "\n",
    "    asyncio.gather(replyToAnswer(isCorrect))\n",
    "\n",
    "\n",
    "async def replyToAnswer(isCorrect):\n",
    "    if (isCorrect):\n",
    "        await translateAndSay(\"Correct!\", \"nl\", \"nl-nl\")\n",
    "    else:\n",
    "        await translateAndSay(\"Wrong!\", \"nl\", \"nl-nl\")\n",
    "\n",
    "    if (OpenAILessonHandler.index >= 5):\n",
    "        print(\"Done!\")\n",
    "\n",
    "        asyncio.gather(translateAndSay(f\"Je bent klaar, geweldig gedaan!\", \"nl\", \"nl-nl\"))\n",
    "        return\n",
    "\n",
    "    await askNextQuestion()\n",
    "\n",
    "\n",
    "async def askNextQuestion():\n",
    "    print(\"Asking: \" + str(questions[OpenAILessonHandler.index]))\n",
    "    await translateAndSay(questions[OpenAILessonHandler.index], \"nl\", \"nl-nl\")\n",
    "    await listenToFirstAnswer(observer, checkAnswer)\n",
    "\n",
    "asyncio.gather(askNextQuestion())\n",
    "\n",
    "await asyncio.sleep(20)"
   ]
  },
  {
   "cell_type": "code",
   "execution_count": null,
   "metadata": {},
   "outputs": [],
   "source": []
  }
 ],
 "metadata": {
  "kernelspec": {
   "display_name": "Python 3",
   "language": "python",
   "name": "python3"
  },
  "language_info": {
   "codemirror_mode": {
    "name": "ipython",
    "version": 3
   },
   "file_extension": ".py",
   "mimetype": "text/x-python",
   "name": "python",
   "nbconvert_exporter": "python",
   "pygments_lexer": "ipython3",
   "version": "3.10.1"
  },
  "orig_nbformat": 4
 },
 "nbformat": 4,
 "nbformat_minor": 2
}

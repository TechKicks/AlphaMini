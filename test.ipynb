{
 "cells": [
  {
   "cell_type": "code",
   "execution_count": 9,
   "metadata": {},
   "outputs": [
    {
     "name": "stderr",
     "output_type": "stream",
     "text": [
      "start scanning...\n",
      "Address not available when adding 169.254.67.228 to multicast group, it is expected to happen on some systems\n",
      "Address not available when adding 169.254.67.228 to multicast group, it is expected to happen on some systems\n",
      "Address not available when adding 169.254.67.228 to multicast group, it is expected to happen on some systems\n",
      "Address not available when adding 169.254.67.228 to multicast group, it is expected to happen on some systems\n",
      "Address not available when adding 169.254.67.228 to multicast group, it is expected to happen on some systems\n",
      "Address not available when adding 169.254.65.34 to multicast group, it is expected to happen on some systems\n",
      "Address not available when adding 169.254.65.34 to multicast group, it is expected to happen on some systems\n",
      "Address not available when adding 169.254.65.34 to multicast group, it is expected to happen on some systems\n",
      "Address not available when adding 169.254.65.34 to multicast group, it is expected to happen on some systems\n",
      "Address not available when adding 169.254.65.34 to multicast group, it is expected to happen on some systems\n",
      "Find Device:  <class 'mini.dns.dns_browser.WiFiDevice'> name:Edu_030008KFK18122900534 address:192.168.0.173 port:51119 type:_Edu_mini_channel_server._tcp.local. server:Android.local.\n",
      "found device : <class 'mini.dns.dns_browser.WiFiDevice'> name:Edu_030008KFK18122900534 address:192.168.0.173 port:51119 type:_Edu_mini_channel_server._tcp.local. server:Android.local.\n",
      "stop scan finished.\n",
      "connect begin\n",
      "connect success\n",
      "send cmd=16, identify='6', message=\n",
      "recv msg: header {\n",
      "  id: \"6\"\n",
      "  command: 16\n",
      "}\n",
      "bodyData: \"\\n\\034Alpha_Mini_outEdu-V1.4.4.888\\020\\001\"\n",
      "\n"
     ]
    },
    {
     "name": "stdout",
     "output_type": "stream",
     "text": [
      "test_get_device_by_name result:<class 'mini.dns.dns_browser.WiFiDevice'> name:Edu_030008KFK18122900534 address:192.168.0.173 port:51119 type:_Edu_mini_channel_server._tcp.local. server:Android.local.\n"
     ]
    }
   ],
   "source": [
    "import mini.mini_sdk as MiniSdk\n",
    "from mini.dns.dns_browser import WiFiDevice\n",
    "import logging\n",
    "\n",
    "MiniSdk.set_log_level(logging.INFO)\n",
    "MiniSdk.set_robot_type(MiniSdk.RobotType.EDU)\n",
    "\n",
    "async def main():\n",
    "    result: WiFiDevice = await MiniSdk.get_device_by_name(\"Edu_030008KFK18122900534\", 10)\n",
    "    print(f\"test_get_device_by_name result:{result}\")\n",
    "\n",
    "    if result:\n",
    "        await MiniSdk.connect(result)\n",
    "        await MiniSdk.enter_program()\n",
    "\n",
    "await main()"
   ]
  },
  {
   "cell_type": "code",
   "execution_count": 31,
   "metadata": {},
   "outputs": [
    {
     "name": "stderr",
     "output_type": "stream",
     "text": [
      "send cmd=4, identify='24', message=text: \"I\\'m listening\"\n",
      "type: 1\n",
      "\n",
      "send cmd=35, identify='0', message=\n",
      "recv msg: header {\n",
      "  id: \"24\"\n",
      "  command: 4\n",
      "}\n",
      "bodyData: \"\\010\\001\"\n",
      "\n",
      "recv msg: header {\n",
      "  id: \"0\"\n",
      "  command: 35\n",
      "}\n",
      "bodyData: \"\\010\\001\\032\\014do something\"\n",
      "\n",
      "send cmd=1, identify='25', message=actionName: \"015\"\n",
      "\n"
     ]
    },
    {
     "name": "stdout",
     "output_type": "stream",
     "text": [
      "test_speech_recognise handle msg:do something\n",
      "test_speech_recognise handle msg:do something\n"
     ]
    },
    {
     "name": "stderr",
     "output_type": "stream",
     "text": [
      "recv msg: header {\n",
      "  id: \"25\"\n",
      "  command: 1\n",
      "}\n",
      "bodyData: \"\\010\\001\"\n",
      "\n"
     ]
    },
    {
     "ename": "CancelledError",
     "evalue": "",
     "output_type": "error",
     "traceback": [
      "\u001b[1;31m---------------------------------------------------------------------------\u001b[0m",
      "\u001b[1;31mCancelledError\u001b[0m                            Traceback (most recent call last)",
      "\u001b[1;32mc:\\Users\\sanne\\OneDrive\\Bureaublad\\AlphaMini\\AlphaMini\\test.ipynb Cell 2\u001b[0m in \u001b[0;36m2\n\u001b[0;32m     <a href='vscode-notebook-cell:/c%3A/Users/sanne/OneDrive/Bureaublad/AlphaMini/AlphaMini/test.ipynb#W1sZmlsZQ%3D%3D?line=17'>18</a>\u001b[0m action \u001b[39m=\u001b[39m StartPlayTTS(text\u001b[39m=\u001b[39m\u001b[39m\"\u001b[39m\u001b[39mI\u001b[39m\u001b[39m'\u001b[39m\u001b[39mm listening\u001b[39m\u001b[39m\"\u001b[39m)\n\u001b[0;32m     <a href='vscode-notebook-cell:/c%3A/Users/sanne/OneDrive/Bureaublad/AlphaMini/AlphaMini/test.ipynb#W1sZmlsZQ%3D%3D?line=18'>19</a>\u001b[0m \u001b[39mawait\u001b[39;00m action\u001b[39m.\u001b[39mexecute()\n\u001b[1;32m---> <a href='vscode-notebook-cell:/c%3A/Users/sanne/OneDrive/Bureaublad/AlphaMini/AlphaMini/test.ipynb#W1sZmlsZQ%3D%3D?line=19'>20</a>\u001b[0m \u001b[39mawait\u001b[39;00m asyncio\u001b[39m.\u001b[39msleep(\u001b[39m30\u001b[39m)\n\u001b[0;32m     <a href='vscode-notebook-cell:/c%3A/Users/sanne/OneDrive/Bureaublad/AlphaMini/AlphaMini/test.ipynb#W1sZmlsZQ%3D%3D?line=20'>21</a>\u001b[0m observer\u001b[39m.\u001b[39mstop()\n",
      "File \u001b[1;32mc:\\Program Files\\Python38\\lib\\asyncio\\tasks.py:648\u001b[0m, in \u001b[0;36msleep\u001b[1;34m(delay, result, loop)\u001b[0m\n\u001b[0;32m    644\u001b[0m h \u001b[39m=\u001b[39m loop\u001b[39m.\u001b[39mcall_later(delay,\n\u001b[0;32m    645\u001b[0m                     futures\u001b[39m.\u001b[39m_set_result_unless_cancelled,\n\u001b[0;32m    646\u001b[0m                     future, result)\n\u001b[0;32m    647\u001b[0m \u001b[39mtry\u001b[39;00m:\n\u001b[1;32m--> 648\u001b[0m     \u001b[39mreturn\u001b[39;00m \u001b[39mawait\u001b[39;00m future\n\u001b[0;32m    649\u001b[0m \u001b[39mfinally\u001b[39;00m:\n\u001b[0;32m    650\u001b[0m     h\u001b[39m.\u001b[39mcancel()\n",
      "\u001b[1;31mCancelledError\u001b[0m: "
     ]
    }
   ],
   "source": [
    "from mini.apis.api_action import PlayAction\n",
    "from mini.apis.api_sound import StartPlayTTS\n",
    "from mini.apis.api_observe import ObserveSpeechRecognise\n",
    "import asyncio\n",
    "\n",
    "observer = ObserveSpeechRecognise()\n",
    "\n",
    "def handler(msg):\n",
    "    print(f\"test_speech_recognise handle msg:{msg.text}\")\n",
    "\n",
    "    if(\"do something\" in msg.text.lower()):\n",
    "        action = PlayAction(action_name=\"015\")\n",
    "        asyncio.gather(action.execute())\n",
    "        \n",
    "    observer.stop()\n",
    "\n",
    "observer.set_handler(handler)\n",
    "observer.start()\n",
    "\n",
    "action = StartPlayTTS(text=\"I'm listening\")\n",
    "await action.execute()\n",
    "await asyncio.sleep(30)\n",
    "observer.stop()"
   ]
  }
 ],
 "metadata": {
  "kernelspec": {
   "display_name": "Python 3",
   "language": "python",
   "name": "python3"
  },
  "language_info": {
   "codemirror_mode": {
    "name": "ipython",
    "version": 3
   },
   "file_extension": ".py",
   "mimetype": "text/x-python",
   "name": "python",
   "nbconvert_exporter": "python",
   "pygments_lexer": "ipython3",
   "version": "3.8.2"
  },
  "orig_nbformat": 4
 },
 "nbformat": 4,
 "nbformat_minor": 2
}

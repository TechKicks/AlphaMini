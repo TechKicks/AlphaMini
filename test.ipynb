{
 "cells": [
  {
   "cell_type": "code",
   "execution_count": 14,
   "metadata": {},
   "outputs": [
    {
     "name": "stderr",
     "output_type": "stream",
     "text": [
      "start scanning...\n",
      "Address not available when adding 169.254.67.228 to multicast group, it is expected to happen on some systems\n",
      "Address not available when adding 169.254.67.228 to multicast group, it is expected to happen on some systems\n",
      "Address not available when adding 169.254.65.34 to multicast group, it is expected to happen on some systems\n",
      "Address not available when adding 169.254.65.34 to multicast group, it is expected to happen on some systems\n",
      "Find Device:  <class 'mini.dns.dns_browser.WiFiDevice'> name:Edu_030008KFK18122900534 address:192.168.0.173 port:51869 type:_Edu_mini_channel_server._tcp.local. server:Android.local.\n",
      "found device : <class 'mini.dns.dns_browser.WiFiDevice'> name:Edu_030008KFK18122900534 address:192.168.0.173 port:51869 type:_Edu_mini_channel_server._tcp.local. server:Android.local.\n",
      "stop scan finished.\n",
      "connection closed ok!\n",
      "connect begin\n",
      "connect success\n",
      "send cmd=16, identify='5', message=\n"
     ]
    },
    {
     "name": "stdout",
     "output_type": "stream",
     "text": [
      "test_get_device_by_name result:<class 'mini.dns.dns_browser.WiFiDevice'> name:Edu_030008KFK18122900534 address:192.168.0.173 port:51869 type:_Edu_mini_channel_server._tcp.local. server:Android.local.\n"
     ]
    },
    {
     "name": "stderr",
     "output_type": "stream",
     "text": [
      "recv msg: header {\n",
      "  id: \"5\"\n",
      "  command: 16\n",
      "}\n",
      "bodyData: \"\\n\\034Alpha_Mini_outEdu-V1.4.4.888\\020\\001\"\n",
      "\n",
      "connection closed ok!\n"
     ]
    }
   ],
   "source": [
    "import mini.mini_sdk as MiniSdk\n",
    "from mini.dns.dns_browser import WiFiDevice\n",
    "import logging\n",
    "\n",
    "MiniSdk.set_log_level(logging.INFO)\n",
    "MiniSdk.set_robot_type(MiniSdk.RobotType.EDU)\n",
    "\n",
    "async def main():\n",
    "    result: WiFiDevice = await MiniSdk.get_device_by_name(\"Edu_030008KFK18122900534\", 10)\n",
    "    print(f\"test_get_device_by_name result:{result}\")\n",
    "\n",
    "    if result:\n",
    "        await MiniSdk.connect(result)\n",
    "        await MiniSdk.enter_program()\n",
    "\n",
    "await main()"
   ]
  },
  {
   "cell_type": "code",
   "execution_count": 13,
   "metadata": {},
   "outputs": [
    {
     "name": "stderr",
     "output_type": "stream",
     "text": [
      "send cmd=4, identify='4', message=text: \"I\\'m listening\"\n",
      "type: 1\n",
      "\n",
      "send cmd=35, identify='0', message=\n"
     ]
    },
    {
     "name": "stdout",
     "output_type": "stream",
     "text": [
      "('ObserveSpeechRecognise', 'GeneratedProtocolMessageType', 0)\n"
     ]
    },
    {
     "name": "stderr",
     "output_type": "stream",
     "text": [
      "recv msg: header {\n",
      "  id: \"4\"\n",
      "  command: 4\n",
      "}\n",
      "bodyData: \"\\010\\001\"\n",
      "\n",
      "send cmd=39, identify='0', message=\n"
     ]
    },
    {
     "name": "stderr",
     "output_type": "stream",
     "text": [
      "recv msg: header {\n",
      "  id: \"0\"\n",
      "  command: 39\n",
      "}\n",
      "bodyData: \"\\010\\001\"\n",
      "\n",
      "2.ignore:cmd=39, cmd no handlers.\n"
     ]
    }
   ],
   "source": [
    "from mini.apis.api_action import PlayAction\n",
    "from mini.apis.api_sound import StartPlayTTS\n",
    "from mini.apis.api_observe import ObserveSpeechRecognise\n",
    "import asyncio\n",
    "\n",
    "observer = ObserveSpeechRecognise()\n",
    "\n",
    "def handler(msg):\n",
    "    print(f\"test_speech_recognise handle msg:{msg.text}\")\n",
    "\n",
    "    if(\"do something\" in msg.text.lower()):\n",
    "        action = PlayAction(action_name=\"015\")\n",
    "        asyncio.gather(action.execute())\n",
    "\n",
    "    observer.stop()\n",
    "\n",
    "observer.set_handler(handler)\n",
    "observer.start()\n",
    "\n",
    "action = StartPlayTTS(text=\"I'm listening\")\n",
    "await action.execute()\n",
    "await asyncio.sleep(10)\n",
    "observer.stop()"
   ]
  },
  {
   "cell_type": "code",
   "execution_count": 9,
   "metadata": {},
   "outputs": [
    {
     "name": "stdout",
     "output_type": "stream",
     "text": [
      "Cijfer 2 is geen voldoende\n"
     ]
    }
   ],
   "source": [
    "cijfer1 = 6.6\n",
    "cijfer2 = 4.9\n",
    "\n",
    "if (cijfer1 < 5.5):\n",
    "    print(\"Cijfer 1 is geen voldoende\")\n",
    "\n",
    "if (cijfer2 < 5.5):\n",
    "    print(\"Cijfer 2 is geen voldoende\")"
   ]
  }
 ],
 "metadata": {
  "kernelspec": {
   "display_name": "Python 3",
   "language": "python",
   "name": "python3"
  },
  "language_info": {
   "codemirror_mode": {
    "name": "ipython",
    "version": 3
   },
   "file_extension": ".py",
   "mimetype": "text/x-python",
   "name": "python",
   "nbconvert_exporter": "python",
   "pygments_lexer": "ipython3",
   "version": "3.8.2"
  },
  "orig_nbformat": 4
 },
 "nbformat": 4,
 "nbformat_minor": 2
}

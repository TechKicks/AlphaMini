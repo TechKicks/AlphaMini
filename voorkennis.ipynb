{
 "cells": [
  {
   "cell_type": "code",
   "execution_count": 1,
   "metadata": {},
   "outputs": [
    {
     "name": "stdout",
     "output_type": "stream",
     "text": [
      "21\n",
      "38\n"
     ]
    }
   ],
   "source": [
    "getal1 = 19\n",
    "iets_anders = 2\n",
    "\n",
    "print(getal1 + iets_anders)\n",
    "print(getal1 * iets_anders)"
   ]
  },
  {
   "cell_type": "code",
   "execution_count": 2,
   "metadata": {},
   "outputs": [
    {
     "name": "stdout",
     "output_type": "stream",
     "text": [
      "Deze code is gedraait!\n"
     ]
    }
   ],
   "source": [
    "def doSomething():\n",
    "    print(\"Deze code is gedraait!\")\n",
    "\n",
    "doSomething()"
   ]
  },
  {
   "cell_type": "code",
   "execution_count": 5,
   "metadata": {},
   "outputs": [
    {
     "name": "stdout",
     "output_type": "stream",
     "text": [
      "12\n",
      "1\n",
      "4\n"
     ]
    }
   ],
   "source": [
    "def telGetallenOp(a, b):\n",
    "    som = a + b\n",
    "    print(som)\n",
    "\n",
    "telGetallenOp(8, 4)\n",
    "telGetallenOp(-2, 3)\n",
    "telGetallenOp(2+2, 2-2)"
   ]
  }
 ],
 "metadata": {
  "kernelspec": {
   "display_name": "Python 3",
   "language": "python",
   "name": "python3"
  },
  "language_info": {
   "codemirror_mode": {
    "name": "ipython",
    "version": 3
   },
   "file_extension": ".py",
   "mimetype": "text/x-python",
   "name": "python",
   "nbconvert_exporter": "python",
   "pygments_lexer": "ipython3",
   "version": "3.8.2"
  },
  "orig_nbformat": 4
 },
 "nbformat": 4,
 "nbformat_minor": 2
}
